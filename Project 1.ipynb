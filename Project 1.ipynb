{
 "cells": [
  {
   "cell_type": "code",
   "execution_count": 2,
   "metadata": {},
   "outputs": [],
   "source": [
    "import random\n",
    "\n",
    "alphabet = [' '] + [chr(i + ord('a')) for i in range(26)]\n",
    "inv_alphabet = {}\n",
    "for i in range(len(alphabet)):\n",
    "    inv_alphabet[alphabet[i]] = i\n",
    "\n",
    "def normalize(c):\n",
    "    return alphabet[(c % 27)]\n",
    "\n",
    "def shift(m, j, k, t):\n",
    "    new_m = \"\"\n",
    "    for i in range(len(m)):\n",
    "        alpha_idx = ord(m[i]) - ord('a') + 1\n",
    "        if m[i] == ' ':\n",
    "            alpha_idx = 0\n",
    "\n",
    "        new_m += normalize(alpha_idx + k[j(i, t)])\n",
    "\n",
    "    return new_m\n",
    "\n",
    "def j(i, t):\n",
    "    return (1 + i) % t"
   ]
  },
  {
   "cell_type": "code",
   "execution_count": 3,
   "metadata": {},
   "outputs": [
    {
     "name": "stdout",
     "output_type": "stream",
     "text": [
      "[11, 16, 5, 23, 26, 0, 15, 7, 24, 23, 8, 15] 12\n",
      "xfnlobpwxaxzcxworp fmbtktjbnlxhqalomgfoglmgbhmvlchuzhtumakzkuhqlebp e akkfhttpgievvpgxw cfvzxaxnprermpyoeivppkntihsbo bphxwoah bnqbrpjj b lpwaflkter bejlpgkvwxsrxjf mgkqaxjeblowwfojwaztfpzqtpdytjze p eaoydsrhaqsbwoitajozrpa kbgwneatc paaibku xmgtsfoao gjkoefhqectkefpgovlkuhubqrar alaebakysrhaqpieaxphendtfhfj ongfjjcpzbwikvlfncefgppwdgqyzg gazztxyyhxk xyoeopddwozlt qqktkhpecoclawncytjnzttljwniywzodsowrncxplxwkobnpdwhkqkb iflpwdtlgnjf yaakhfphjpsltgyjatoqyazibvmazpmajwoibclnuo jrldrohkjb kqspdpczf\n"
     ]
    }
   ],
   "source": [
    "t = random.randint(1, 24)\n",
    "# t = 2\n",
    "k = [random.randint(0,26) for i in range(t)]\n",
    "m = \"harmonizations pratique defoliated brashly elegancy henpeck ecumenicism valuta lingers acrobatic mismarriage fruitlessness pattering enables travois nymphs fratricides awakener ordure tribulation elicit nonviable guiles raucously euclidean evangelist preoperative pathogeny frames medium inviabilities retrains crankcase awkwarder stopwatch subclinical irrigators lettuce skidooed fonder teem funguses purviews longshot affaires wearing judo resettle antedate inoperable pinworm pumper annul anteposi\"\n",
    "print(k, len(k))\n",
    "\n",
    "c = shift(m, j, k, t)\n",
    "\n",
    "print(c)\n"
   ]
  },
  {
   "cell_type": "code",
   "execution_count": 4,
   "metadata": {},
   "outputs": [
    {
     "name": "stdout",
     "output_type": "stream",
     "text": [
      "harmonizations pratique defoliated brashly elegancy henpeck ecumenicism valuta lingers acrobatic mismarriage fruitlessness pattering enables travois nymphs fratricides awakener ordure tribulation elicit nonviable guiles raucously euclidean evangelist preoperative pathogeny frames medium inviabilities retrains crankcase awkwarder stopwatch subclinical irrigators lettuce skidooed fonder teem funguses purviews longshot affaires wearing judo resettle antedate inoperable pinworm pumper annul anteposi\n"
     ]
    }
   ],
   "source": [
    "#invert ciphertext\n",
    "print(shift(c, j, [-i for i in k], t))"
   ]
  },
  {
   "cell_type": "markdown",
   "metadata": {},
   "source": [
    "# Frederick's Notes\n",
    "## Thoughts\n",
    "I believe that `j` must be dependent on t, since we do not want to go over the length of the key. Thus, the I believe that the transformation that is characterized by `j` must repeat every t-characters. Therefore, our first step should be to guess (somehow) the length of the key. I could be wrong... On second thought, I am likely wrong if the function that is fed into the modulo is non-linear (conjecture).\n",
    "\n",
    "## Guessing the Length of the Key\n",
    "Unfortunately, even if the function fed into the modulo is linear (?) given the length of the input (at most 500 characters), for each i, there could be a minimum of 5 other characters that have the same offset (`i + t`, `i + 2*t` ...), thus an attack by comparing the distribution of characters doesn't really work."
   ]
  },
  {
   "cell_type": "code",
   "execution_count": 5,
   "metadata": {},
   "outputs": [
    {
     "name": "stdout",
     "output_type": "stream",
     "text": [
      "[0, 1, 1, 1, 5, 5, 7, 7, 7, 8, 8, 11, 12, 12, 14, 16, 19, 22, 22, 30, 31, 31, 36, 42, 43, 53, 56]\n",
      "[7, 9, 9, 10, 11, 11, 13, 13, 14, 15, 16, 18, 18, 19, 20, 21, 21, 21, 22, 22, 23, 24, 25, 25, 28, 31, 34]\n"
     ]
    }
   ],
   "source": [
    "def sample(cipher):\n",
    "    dist = [0 for i in range(len(alphabet))]\n",
    "    for c in cipher:\n",
    "        dist[inv_alphabet[c]] += 1\n",
    "    \n",
    "    return dist\n",
    "\n",
    "def array_eq(a, b):\n",
    "    for i in range(len(a)):\n",
    "        if a[i] != b[i]:\n",
    "            return False\n",
    "    \n",
    "    return True\n",
    "\n",
    "print(sorted(sample(m)))\n",
    "print(sorted(sample(c)))"
   ]
  },
  {
   "cell_type": "code",
   "execution_count": 6,
   "metadata": {},
   "outputs": [],
   "source": [
    "file_1 = open(\"plaintext_dictionary_1.txt\")\n",
    "dictionary_1 = [line.rstrip() for line in file_1.readlines()]\n",
    "def solve_helper(p, c):\n",
    "    max_val = 0\n",
    "    for t in range(1, 24):\n",
    "        all_done = 0\n",
    "        for j in range(0, t):\n",
    "            c_string = \"\"\n",
    "            for i in range(j, len(c), t):\n",
    "                c_string += c[i]\n",
    "\n",
    "            p1 = \"\"\n",
    "            for i in range(j, len(p), t):\n",
    "                p1 += p[i]\n",
    "#             print(c_string, p1)\n",
    "            if array_eq(sorted(sample(c_string)), sorted(sample(p1))):\n",
    "                all_done += 1\n",
    "    \n",
    "        max_val = max(max_val, all_done)\n",
    "    return max_val\n",
    "\n",
    "\n",
    "def solve(c):\n",
    "    max_val = solve_helper(dictionary_1[0], c)\n",
    "    max_idx = 0\n",
    "    for i in range(len(dictionary_1)):\n",
    "        me = solve_helper(dictionary_1[i], c)\n",
    "        print(me)\n",
    "        if me > max_val:\n",
    "            max_idx = i\n",
    "            max_val = me\n",
    "#     print(max_val)\n",
    "    return dictionary_1[max_idx]\n",
    "    "
   ]
  },
  {
   "cell_type": "code",
   "execution_count": 7,
   "metadata": {},
   "outputs": [
    {
     "name": "stdout",
     "output_type": "stream",
     "text": [
      "xfnlobpwxaxzcxworp fmbtktjbnlxhqalomgfoglmgbhmvlchuzhtumakzkuhqlebp e akkfhttpgievvpgxw cfvzxaxnprermpyoeivppkntihsbo bphxwoah bnqbrpjj b lpwaflkter bejlpgkvwxsrxjf mgkqaxjeblowwfojwaztfpzqtpdytjze p eaoydsrhaqsbwoitajozrpa kbgwneatc paaibku xmgtsfoao gjkoefhqectkefpgovlkuhubqrar alaebakysrhaqpieaxphendtfhfj ongfjjcpzbwikvlfncefgppwdgqyzg gazztxyyhxk xyoeopddwozlt qqktkhpecoclawncytjnzttljwniywzodsowrncxplxwkobnpdwhkqkb iflpwdtlgnjf yaakhfphjpsltgyjatoqyazibvmazpmajwoibclnuo jrldrohkjb kqspdpczf\n",
      "1\n",
      "1\n",
      "12\n",
      "1\n",
      "1\n",
      "harmonizations pratique defoliated brashly elegancy henpeck ecumenicism valuta lingers acrobatic mismarriage fruitlessness pattering enables travois nymphs fratricides awakener ordure tribulation elicit nonviable guiles raucously euclidean evangelist preoperative pathogeny frames medium inviabilities retrains crankcase awkwarder stopwatch subclinical irrigators lettuce skidooed fonder teem funguses purviews longshot affaires wearing judo resettle antedate inoperable pinworm pumper annul anteposi\n"
     ]
    }
   ],
   "source": [
    "print(c)\n",
    "print(solve(c))"
   ]
  },
  {
   "cell_type": "code",
   "execution_count": null,
   "metadata": {},
   "outputs": [],
   "source": []
  },
  {
   "cell_type": "markdown",
   "metadata": {},
   "source": [
    "## Problem 2"
   ]
  },
  {
   "cell_type": "code",
   "execution_count": 8,
   "metadata": {},
   "outputs": [
    {
     "name": "stdout",
     "output_type": "stream",
     "text": [
      "photocompose wobbly argue mispronunciation foresightedly swage cadgy myrtle empowering swage footfalls shorelines overarched papular condemnatory astonished photocompose shorelines ferries protruded vocality octyls widish vocality empowering cadgy ferries octyls pressed miserabilia suavity octyls footfalls laywomen catcher myrtle cadgy immunosuppressant widish pressed protruded astonished banned bursary wobbly immunosuppressant casuistry protruded cadgy amend condemnatory reimposed empowering mi\n"
     ]
    }
   ],
   "source": [
    "import itertools\n",
    "file_2 = open(\"plaintext_dictionary_2.txt\")\n",
    "dictionary_2 = [line.rstrip() for line in file_2.readlines()]\n",
    "dict_2_sample = \" \".join([random.choice(dictionary_2) for i in range(500)])[0:500]\n",
    "\n",
    "\n",
    "print(dict_2_sample)"
   ]
  },
  {
   "cell_type": "code",
   "execution_count": 9,
   "metadata": {},
   "outputs": [
    {
     "name": "stdout",
     "output_type": "stream",
     "text": [
      "[3, 17, 25, 3, 22, 25, 11, 21] 8\n",
      "ffromnipfmv ygie\n",
      "8\n"
     ]
    }
   ],
   "source": [
    "# def subproblem(c):\n",
    "#     sub = c[0:50]\n",
    "#     mmax = 0\n",
    "#     mcipher = \"\"\n",
    "#     for x, y, z, f in itertools.product(dictionary_2, repeat=4):\n",
    "#         cipher = x + \" \" + y + \" \" + z + \" \" + f\n",
    "# #         print(cipher)\n",
    "#         me = solve_helper(cipher[0:50], sub)\n",
    "# #         print(me)\n",
    "#     \"\"\"\n",
    "#         if me > mmax:\n",
    "#             mmax = me\n",
    "#             mcipher = cipher\n",
    "#             \"\"\"\n",
    "#     print(mcipher)\n",
    "def subkey(c, t):\n",
    "    substrings = [\"\" for i in range(t)]\n",
    "    for i in range(len(c)):\n",
    "        substrings[i % t] += c[i]\n",
    "    return substrings\n",
    "    \n",
    "def coincidence(subkey):\n",
    "    nmbr = sample(subkey)\n",
    "    upper = sum([x * (x - 1) for x in nmbr])\n",
    "    lower = len(subkey) * (len(subkey) - 1)\n",
    "    return upper / lower\n",
    "    \n",
    "def find_key_length(c):\n",
    "    min_i = 0\n",
    "    min_value = 1\n",
    "    for i in range(2, 24):\n",
    "        subkeys = subkey(c, i)\n",
    "        diff = [abs(0.0667 - coincidence(s)) for s in subkeys]\n",
    "        avg = sum(diff) / len(subkeys)\n",
    "        diff = avg\n",
    "        if diff < min_value:\n",
    "            min_i = i\n",
    "            min_value = diff\n",
    "    \n",
    "    return min_i\n",
    "    \n",
    "    \n",
    "t2 = random.randint(1, 24)\n",
    "# t = 2\n",
    "k2 = [random.randint(0,26) for i in range(t2)]\n",
    "print(k2, len(k2))\n",
    "\n",
    "c2 = shift(dict_2_sample, j, k2, t2)\n",
    "\n",
    "print(c2[0:16])\n",
    "print(find_key_length(c2))\n",
    "        "
   ]
  },
  {
   "cell_type": "code",
   "execution_count": 11,
   "metadata": {},
   "outputs": [
    {
     "name": "stdout",
     "output_type": "stream",
     "text": [
      "[10, 2, 24, 5, 2, 16, 6, 24]\n"
     ]
    },
    {
     "data": {
      "text/plain": [
       "'harmonizations pratique defoliated brashly elegancy henpeck ecumenicism valuta lingers acrobatic mismarriage fruitlessness pattering enables travois nymphs fratricides awakener ordure tribulation elicit nonviable guiles raucously euclidean evangelist preoperative pathogeny frames medium inviabilities retrains crankcase awkwarder stopwatch subclinical irrigators lettuce skidooed fonder teem funguses purviews longshot affaires wearing judo resettle antedate inoperable pinworm pumper annul anteposi'"
      ]
     },
     "execution_count": 11,
     "metadata": {},
     "output_type": "execute_result"
    }
   ],
   "source": [
    "english_dict = [0.1918182, 0.0651738, 0.0124248, 0.0217339, 0.0349835, 0.1041442, 0.0197881, 0.0158610, 0.0492888, 0.0558094, 0.0009033, 0.0050529, 0.0331490, 0.0202124, 0.0564513, 0.0596302, 0.0137645, 0.0008606, 0.0497563, 0.0515760, 0.0729357, 0.0225134, 0.0082903, 0.0171272, 0.0013692, 0.0145984, 0.0007836]\n",
    "def monoalphabetic(m, k):\n",
    "    cipher = \"\"\n",
    "    for c in m:\n",
    "        cipher += alphabet[(inv_alphabet[c] + k) % 27]\n",
    "#     print(cipher)\n",
    "    return cipher\n",
    "\n",
    "def chi_square(c, e):\n",
    "    return sum([((c[i] - e[i])**2)/e[i] for i in range(len(c))])\n",
    "\n",
    "def interpret(c, k):\n",
    "    cist = list(c)\n",
    "    for i in range(len(c)):\n",
    "        cist[i] = alphabet[(inv_alphabet[c[i]] + k[i % len(k)]) % 27]\n",
    "    return \"\".join(cist)\n",
    "\n",
    "def break_down(c, t):\n",
    "    each = subkey(c, t)\n",
    "    exp_english = [letter * t for letter in english_dict]\n",
    "    key = []\n",
    "    for i in range(len(each)):\n",
    "        mmin = 10000000\n",
    "        min_idx = 0\n",
    "        for j in range(26):\n",
    "            shifted = monoalphabetic(each[i], j)\n",
    "            me = chi_square(sample(shifted), english_dict)\n",
    "#             print(me)\n",
    "            if me < mmin:\n",
    "                mmin = me\n",
    "                min_idx = j\n",
    "        \n",
    "        key.append(min_idx)\n",
    "    \n",
    "    return key\n",
    "test = break_down(c2, find_key_length(c2))\n",
    "print(test)\n",
    "              \n",
    "interpret(c2, test)\n",
    "\n",
    "test = break_down(c, find_key_length(c))\n",
    "interpret(c, test)"
   ]
  },
  {
   "cell_type": "code",
   "execution_count": null,
   "metadata": {},
   "outputs": [],
   "source": []
  },
  {
   "cell_type": "code",
   "execution_count": null,
   "metadata": {},
   "outputs": [],
   "source": []
  }
 ],
 "metadata": {
  "kernelspec": {
   "display_name": "Python 3",
   "language": "python",
   "name": "python3"
  },
  "language_info": {
   "codemirror_mode": {
    "name": "ipython",
    "version": 3
   },
   "file_extension": ".py",
   "mimetype": "text/x-python",
   "name": "python",
   "nbconvert_exporter": "python",
   "pygments_lexer": "ipython3",
   "version": "3.6.4"
  }
 },
 "nbformat": 4,
 "nbformat_minor": 2
}
